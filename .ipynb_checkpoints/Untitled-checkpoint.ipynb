{
 "cells": [
  {
   "cell_type": "code",
   "execution_count": null,
   "id": "5cdf692e-f625-4b24-8d2a-9f0509106ab4",
   "metadata": {},
   "outputs": [],
   "source": [
    "import math\n",
    "def main():\n",
    "    Puzzle = input(\"If you want to play 8 Puzzle, Enter 1; If you want to play other Puzzle enter 2\") or \"1\"\n",
    "    target = input(\"Please enter the target state you want to reach. Default is sorted increasing in row and column \") or [[1,2,3,4,5,6,7,8,0]]\n",
    "    if math.sqrt(len(target)).is_integer() == False:\n",
    "        print(\"Please Enter a Squared matrix in this puzzle problem\")\n",
    "        break \n",
    "    initial = list(input(\"Please enter the initial state\"))\n",
    "    print(initial)\n",
    "    if (math.sqrt(len(initial)).is_integer() & initial == \"\") == False:\n",
    "        print(\"Initial state should be in a suitable format and can't be empty\")\n",
    "        break \n",
    "    print(\"sucess\")\n",
    "\n",
    "if __name__ == \"__main__\":\n",
    "    main()\n"
   ]
  },
  {
   "cell_type": "code",
   "execution_count": 2,
   "id": "81fabae7-bdd1-4341-ae15-e08815dc7af1",
   "metadata": {},
   "outputs": [
    {
     "name": "stdout",
     "output_type": "stream",
     "text": [
      "Initial state should be in a suitable format and can't be empty\n"
     ]
    }
   ],
   "source": [
    "if (True & False) == False:\n",
    "    print(\"Initial state should be in a suitable format and can't be empty\")"
   ]
  },
  {
   "cell_type": "code",
   "execution_count": null,
   "id": "c69718c0-1dcc-43f9-93ae-0ba6ca5d99a7",
   "metadata": {},
   "outputs": [],
   "source": []
  }
 ],
 "metadata": {
  "kernelspec": {
   "display_name": "Python 3 (ipykernel)",
   "language": "python",
   "name": "python3"
  },
  "language_info": {
   "codemirror_mode": {
    "name": "ipython",
    "version": 3
   },
   "file_extension": ".py",
   "mimetype": "text/x-python",
   "name": "python",
   "nbconvert_exporter": "python",
   "pygments_lexer": "ipython3",
   "version": "3.10.14"
  }
 },
 "nbformat": 4,
 "nbformat_minor": 5
}
